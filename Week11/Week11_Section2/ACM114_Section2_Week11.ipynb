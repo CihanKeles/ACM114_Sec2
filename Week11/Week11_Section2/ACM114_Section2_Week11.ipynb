{
 "cells": [
  {
   "cell_type": "code",
   "execution_count": 2,
   "metadata": {},
   "outputs": [
    {
     "name": "stdout",
     "output_type": "stream",
     "text": [
      "Enter the size of N: 3\n"
     ]
    }
   ],
   "source": [
    "from turtle import *\n",
    "\n",
    "def makeRectangle(myTurtle, x, y):\n",
    "    myTurtle.forward(x)\n",
    "    myTurtle.left(90)\n",
    "    myTurtle.forward(y)\n",
    "    myTurtle.left(90)\n",
    "    myTurtle.forward(x)\n",
    "    myTurtle.left(90)\n",
    "    myTurtle.forward(y)\n",
    "    \n",
    "space = Screen()\n",
    "corona = Turtle()\n",
    "\n",
    "numberOfSquares = int(input(\"Enter the size of N: \"))\n",
    "for i in range(numberOfSquares):\n",
    "    for i in range(numberOfSquares):\n",
    "        makeRectangle(corona, 40, 40)\n",
    "        corona.left(90)\n",
    "        corona.forward(40)\n",
    "    corona.left(180)\n",
    "    corona.forward(40*numberOfSquares)\n",
    "    corona.left(90)\n",
    "    corona.forward(40)\n",
    "    corona.left(90)\n",
    "    \n",
    "# delete the redundant\n",
    "corona.left(90)\n",
    "corona.color('white')\n",
    "corona.forward(40)"
   ]
  },
  {
   "cell_type": "code",
   "execution_count": null,
   "metadata": {},
   "outputs": [],
   "source": [
    "from turtle import *\n",
    "\n",
    "def makeRectangle(myTurtle, x, y):\n",
    "    myTurtle.forward(x)\n",
    "    myTurtle.left(90)\n",
    "    myTurtle.forward(y)\n",
    "    myTurtle.left(90)\n",
    "    myTurtle.forward(x)\n",
    "    myTurtle.left(90)\n",
    "    myTurtle.forward(y)\n",
    "    \n",
    "space = Screen()\n",
    "corona = Turtle()\n",
    "\n",
    "colors = ['black', 'red', 'blue', 'yellow']\n",
    "for i in range(5):\n",
    "    nextColor = colors[(i) % len(colors)]\n",
    "    corona.pensize(i * 2)\n",
    "    corona.color(nextcolor)\n",
    "    makeRectangleRectangle(corona, 40, 80)\n",
    "    corona.left(100)"
   ]
  }
 ],
 "metadata": {
  "kernelspec": {
   "display_name": "Python 3",
   "language": "python",
   "name": "python3"
  },
  "language_info": {
   "codemirror_mode": {
    "name": "ipython",
    "version": 3
   },
   "file_extension": ".py",
   "mimetype": "text/x-python",
   "name": "python",
   "nbconvert_exporter": "python",
   "pygments_lexer": "ipython3",
   "version": "3.7.4"
  }
 },
 "nbformat": 4,
 "nbformat_minor": 2
}
