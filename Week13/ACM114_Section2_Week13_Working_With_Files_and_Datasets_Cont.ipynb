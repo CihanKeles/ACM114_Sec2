{
 "cells": [
  {
   "cell_type": "code",
   "execution_count": 1,
   "metadata": {},
   "outputs": [
    {
     "name": "stdout",
     "output_type": "stream",
     "text": [
      "Enter the names of your friends.\n",
      "Enter the number of friends: 10\n",
      "Friend #1: Sandy\n",
      "Friend #2: Danny\n",
      "Friend #3: Rizzo\n",
      "Friend #4: Kenickie\n",
      "Friend #5: Frenchy\n",
      "Friend #6: Roger\n",
      "Friend #7: Jan\n",
      "Friend #8: Putzie\n",
      "Friend #9: Marty\n",
      "Friend #10: Doody\n",
      "['Sandy', 'Danny', 'Rizzo', 'Kenickie', 'Frenchy', 'Roger', 'Jan', 'Putzie', 'Marty', 'Doody']\n",
      "The names were written to friends.txt.\n"
     ]
    }
   ],
   "source": [
    "# This program gets the names from the user\n",
    "# and writes them to a file.\n",
    "\n",
    "def main():\n",
    "    # Get the names\n",
    "    print('Enter the names of your friends.')\n",
    "    n = int(input(\"Enter the number of friends: \"))\n",
    "    i = 0\n",
    "    names = []\n",
    "    while i < n:\n",
    "        name = input('Friend #%d: ' %(i+1))\n",
    "        names.append(name)\n",
    "        i += 1\n",
    "    print(names)\n",
    "    \n",
    "    # Open a file named friends.txt.\n",
    "    myfile = open('friends.txt', 'w')\n",
    "    \n",
    "    for each_name in names:\n",
    "        \n",
    "        # Write the names to the file.\n",
    "        myfile.write(each_name + '\\n')\n",
    "        \n",
    "    # Close the file.\n",
    "    myfile.close()\n",
    "    \n",
    "    print('The names were written to friends.txt.')\n",
    "    \n",
    "# Call the main function.\n",
    "main()"
   ]
  },
  {
   "cell_type": "code",
   "execution_count": 14,
   "metadata": {},
   "outputs": [
    {
     "name": "stdout",
     "output_type": "stream",
     "text": [
      "Socrates\n",
      "Plato\n",
      "Aristotle\n",
      "René Descartes\n",
      "Immanuel Kant\n"
     ]
    }
   ],
   "source": [
    "# This program reads the contents of the philosophers.txt\n",
    "# file one line at a time.\n",
    "\n",
    "def main():\n",
    "    # Open a file named philosophers.txt.\n",
    "    infile = open('philosophers.txt', 'r')\n",
    "    \n",
    "    \"\"\"contents = infile.readlines()\n",
    "    \n",
    "    for line in contents:\n",
    "        line = line.strip('\\n').split()\n",
    "        print(line)\"\"\"\n",
    "    \n",
    "    # Read five lines from the file\n",
    "    line1 = infile.readline()\n",
    "    line2 = infile.readline()\n",
    "    line3 = infile.readline()\n",
    "    line4 = infile.readline()\n",
    "    line5 = infile.readline()\n",
    "    \n",
    "    # Strip the \\n from each string.\n",
    "    line1 = line1.rstrip('\\n')\n",
    "    line2 = line2.rstrip('\\n')\n",
    "    line3 = line3.rstrip('\\n')\n",
    "    line4 = line4.rstrip('\\n')\n",
    "    line5 = line5.rstrip('\\n')\n",
    "    \n",
    "    # Close the file.\n",
    "    infile.close()\n",
    "    \n",
    "    # Print the data that was read into memory.\n",
    "    # print(contents)\n",
    "    print(line1)\n",
    "    print(line2)\n",
    "    print(line3)\n",
    "    print(line4)\n",
    "    print(line5)\n",
    "\n",
    "# Call the main function.\n",
    "main()"
   ]
  },
  {
   "cell_type": "code",
   "execution_count": 10,
   "metadata": {},
   "outputs": [
    {
     "name": "stdout",
     "output_type": "stream",
     "text": [
      "True\n",
      "False\n"
     ]
    }
   ],
   "source": [
    "a = '123'\n",
    "b = '345\\n'\n",
    "print(a.isdigit())\n",
    "print(b.isdigit())"
   ]
  },
  {
   "cell_type": "code",
   "execution_count": 15,
   "metadata": {},
   "outputs": [
    {
     "name": "stdout",
     "output_type": "stream",
     "text": [
      "Enter the names to add your friend list.\n",
      "Enter the number of friends to insert: 5\n",
      "Friend #1: Patty\n",
      "Friend #2: Angel\n",
      "Friend #3: Cha Cha\n",
      "Friend #4: Maggie\n",
      "Friend #5: Willy\n",
      "['Patty', 'Angel', 'Cha Cha', 'Maggie', 'Willy']\n",
      "The names were inserted to friends.txt.\n"
     ]
    }
   ],
   "source": [
    "# This program gets the new names from the user\n",
    "# and appends them to a file.\n",
    "\n",
    "def main():\n",
    "    # Get new names\n",
    "    print('Enter the names to add your friend list.')\n",
    "    m = int(input(\"Enter the number of friends to insert: \"))\n",
    "    j = 0\n",
    "    new_names = []\n",
    "    while j < m:\n",
    "        name = input('Friend #%d: ' %(j+1))\n",
    "        new_names.append(name)\n",
    "        j += 1\n",
    "    print(new_names)\n",
    "    \n",
    "    # Open the file named friends.txt to append new names.\n",
    "    myfile = open('friends.txt', 'a')\n",
    "    \n",
    "    for adding_name in new_names:\n",
    "        \n",
    "        # Write the names to the file.\n",
    "        myfile.write(adding_name + '\\n')\n",
    "        \n",
    "    # Close the file.\n",
    "    myfile.close()\n",
    "    \n",
    "    print('The names were inserted to friends.txt.')\n",
    "    \n",
    "# Call the main function.\n",
    "main()"
   ]
  },
  {
   "cell_type": "code",
   "execution_count": 16,
   "metadata": {},
   "outputs": [
    {
     "name": "stdout",
     "output_type": "stream",
     "text": [
      "['Name', 'Sex', 'Age', 'Team', 'Event', 'Medal']\n",
      "Edgar Lindenau Aabye: Tug-Of-War; Gold\n",
      "Arvo Ossian Aaltonen: Swimming; Bronze\n",
      "Arvo Ossian Aaltonen: Swimming; Bronze\n",
      "Juhamatti Tapio Aaltonen: Ice Hockey; Bronze\n",
      "Paavo Johannes Aaltonen: Gymnastics; Bronze\n",
      "Paavo Johannes Aaltonen: Gymnastics; Gold\n",
      "Paavo Johannes Aaltonen: Gymnastics; Gold\n",
      "Paavo Johannes Aaltonen: Gymnastics; Gold\n",
      "Paavo Johannes Aaltonen: Gymnastics; Bronze\n"
     ]
    }
   ],
   "source": [
    "fileconnection = open(\"olympics.csv\", 'r')\n",
    "lines = fileconnection.readlines()\n",
    "header = lines[0]\n",
    "field_names = header.strip().split(',')\n",
    "print(field_names)\n",
    "for row in lines[1:]:\n",
    "    vals = row.strip().split(',')\n",
    "    if vals[5] != \"NA\":\n",
    "        print(\"{}: {}; {}\".format(\n",
    "                vals[0],\n",
    "                vals[4],\n",
    "                vals[5]))"
   ]
  },
  {
   "cell_type": "code",
   "execution_count": 17,
   "metadata": {},
   "outputs": [],
   "source": [
    "olympians = [(\"John Aalberg\", 31, \"Cross Country Skiing\"),\n",
    "            (\"Minna Maarit Aalto\", 30, \"Sailing\"),\n",
    "            (\"Win Valdemar Aaltonen\", 54, \"Art Competitions\"),\n",
    "            (\"Wakako Abe\", 18, \"Cycling\")]\n",
    "\n",
    "outfile = open(\"reduced_olympics.csv\",\"w\")\n",
    "# output the header row\n",
    "outfile.write('Name,Age,Sport')\n",
    "outfile.write('\\n')\n",
    "# output each of the rows:\n",
    "for olympian in olympians:\n",
    "    row_string = '{},{},{}'.format(olympian[0], olympian[1], olympian[2])\n",
    "    outfile.write(row_string)\n",
    "    outfile.write('\\n')\n",
    "outfile.close()"
   ]
  },
  {
   "cell_type": "code",
   "execution_count": 23,
   "metadata": {},
   "outputs": [
    {
     "name": "stdout",
     "output_type": "stream",
     "text": [
      "Average: 5.50\n"
     ]
    }
   ],
   "source": [
    "def main():\n",
    "    # Declare local variables\n",
    "    total = 0.0\n",
    "    number = 0.0\n",
    "    counter = 0\n",
    "    \n",
    "    try:\n",
    "        # Open the file for reading\n",
    "        # infile = open('exception_file.txt', 'r')\n",
    "        # infile = open('numbers.txt', 'r') # An error occured while trying to read the file.\n",
    "        # infile = open('friends.txt', 'r') # Non-numeric data found in the file.\n",
    "        # infile = open('squared_numbers.txt', 'r')\n",
    "        infile = open(\"Files_written/numbers.txt\", \"r\")\n",
    "        \n",
    "        for line in infile:\n",
    "            counter = counter + 1\n",
    "            number = float(line)\n",
    "            total += number\n",
    "            \n",
    "        # Close the file\n",
    "        infile.close()\n",
    "        \n",
    "        # Calculate average\n",
    "        average = total / counter\n",
    "        \n",
    "        # Display the average of the numbers in the file.\n",
    "        print('Average:',format(average, '.2f'))\n",
    "        \n",
    "    except IOError:\n",
    "        print('An error occured while trying to read the file.')\n",
    "    except ValueError:\n",
    "        print('Non-numeric data found in the file.')\n",
    "    except:\n",
    "        print('An error occured.')\n",
    "        \n",
    "# Call the main function\n",
    "main()"
   ]
  },
  {
   "cell_type": "code",
   "execution_count": null,
   "metadata": {},
   "outputs": [],
   "source": []
  }
 ],
 "metadata": {
  "kernelspec": {
   "display_name": "Python 3",
   "language": "python",
   "name": "python3"
  },
  "language_info": {
   "codemirror_mode": {
    "name": "ipython",
    "version": 3
   },
   "file_extension": ".py",
   "mimetype": "text/x-python",
   "name": "python",
   "nbconvert_exporter": "python",
   "pygments_lexer": "ipython3",
   "version": "3.7.4"
  }
 },
 "nbformat": 4,
 "nbformat_minor": 2
}
