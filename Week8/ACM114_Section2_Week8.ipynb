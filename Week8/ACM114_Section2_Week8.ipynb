{
 "cells": [
  {
   "cell_type": "markdown",
   "metadata": {},
   "source": [
    "This is an example which I want wtat you remember how to use lists and strings together wtih usingg their pre-defined functions (built-in functions)."
   ]
  },
  {
   "cell_type": "code",
   "execution_count": 3,
   "metadata": {},
   "outputs": [
    {
     "name": "stdout",
     "output_type": "stream",
     "text": [
      "['The', 'organization', 'for', 'health,', 'safety', 'and', 'ecucation']\n",
      "The\n",
      "['organization', 'for', 'health,', 'safety', 'and', 'ecucation']\n",
      "for\n",
      "['organization', 'health,', 'safety', 'and', 'ecucation']\n",
      "safety\n",
      "['organization', 'health,', 'safety', 'and', 'ecucation']\n",
      "and\n",
      "['organization', 'health,', 'safety', 'ecucation']\n",
      "OR.\n",
      "OR.HE.\n",
      "OR.HE.SA.\n",
      "OR.HE.SA.EC.\n",
      "OR.HE.SA.EC.\n"
     ]
    }
   ],
   "source": [
    "stopwords = ['to', 'a', 'for', 'by', 'an', 'am', 'the', 'so', 'it', 'and', 'The']\n",
    "org = \"The organization for health, safety and ecucation\"\n",
    "new = org.split()\n",
    "print(new)\n",
    "for i in new:\n",
    "    print(i)\n",
    "    if i in stopwords:\n",
    "        new.remove(i)\n",
    "    print(new)\n",
    "    \n",
    "b = ''\n",
    "for i in new:\n",
    "    b = b + i[0:2].upper() + '.'\n",
    "    print(b)\n",
    "print(b)"
   ]
  },
  {
   "cell_type": "code",
   "execution_count": 4,
   "metadata": {},
   "outputs": [
    {
     "name": "stdout",
     "output_type": "stream",
     "text": [
      "Hello\n",
      "Glad to meet you\n"
     ]
    }
   ],
   "source": [
    "def hello():\n",
    "    print(\"Hello\")\n",
    "    print(\"Glad to meet you\")\n",
    "    \n",
    "hello()"
   ]
  },
  {
   "cell_type": "code",
   "execution_count": 5,
   "metadata": {},
   "outputs": [
    {
     "name": "stdout",
     "output_type": "stream",
     "text": [
      "Hello Cihan\n",
      "Glad to meet you\n"
     ]
    }
   ],
   "source": [
    "def hello2(s):\n",
    "    print(\"Hello \" + s)\n",
    "    print(\"Glad to meet you\")\n",
    "    \n",
    "hello2(\"Cihan\")"
   ]
  },
  {
   "cell_type": "code",
   "execution_count": 6,
   "metadata": {},
   "outputs": [
    {
     "name": "stdout",
     "output_type": "stream",
     "text": [
      "10\n"
     ]
    }
   ],
   "source": [
    "def main():\n",
    "    value = 5\n",
    "    show_double(value)\n",
    "    \n",
    "def show_double(number):\n",
    "    result = number * 2\n",
    "    print(result)\n",
    "\n",
    "main()"
   ]
  },
  {
   "cell_type": "code",
   "execution_count": 7,
   "metadata": {},
   "outputs": [
    {
     "name": "stdout",
     "output_type": "stream",
     "text": [
      "Enter a: 12\n",
      "Enter b: 45\n",
      "The sum of 12 and 45 is:\n",
      "57\n",
      "The sum of 12 and 45 is 57\n",
      "The sum of 12 and 45 is 57\n"
     ]
    }
   ],
   "source": [
    "def main():\n",
    "    a = int(input(\"Enter a: \"))\n",
    "    b = int(input(\"Enter b: \"))\n",
    "    print(\"The sum of %d and %d is:\" %(a, b))\n",
    "    print(show_sum(a, b))\n",
    "    c = show_sum(a, b)\n",
    "    print(\"The sum of\", a, \"and\", b, \"is\", c)\n",
    "    print(\"The sum of {} and {} is {}\".format(a, b, show_sum(a, b)))\n",
    "    \n",
    "def show_sum(num1, num2):\n",
    "    result = num1 + num2\n",
    "    return result\n",
    "\n",
    "main()"
   ]
  },
  {
   "cell_type": "code",
   "execution_count": 8,
   "metadata": {},
   "outputs": [
    {
     "name": "stdout",
     "output_type": "stream",
     "text": [
      "100\n"
     ]
    }
   ],
   "source": [
    "def square(x):\n",
    "    y = x * x\n",
    "    return y\n",
    "\n",
    "toSquare = 10\n",
    "result = square(toSquare)\n",
    "print(result)"
   ]
  },
  {
   "cell_type": "code",
   "execution_count": 9,
   "metadata": {},
   "outputs": [
    {
     "name": "stdout",
     "output_type": "stream",
     "text": [
      "False\n",
      "True\n"
     ]
    }
   ],
   "source": [
    "def longer_than_five(list_of_names):\n",
    "    for name in list_of_names: \n",
    "        if len(name) > 5:\n",
    "            return True\n",
    "    return False\n",
    "\n",
    "list1 = [\"Ali\", \"Veli\", \"Ece\", \"Canan\"]\n",
    "list2 = [\"Can\", \"Efe\", \"Lerzan\", \"Nagehan\"]\n",
    "\n",
    "print(longer_than_five(list1))\n",
    "print(longer_than_five(list2))"
   ]
  },
  {
   "cell_type": "code",
   "execution_count": 11,
   "metadata": {},
   "outputs": [
    {
     "name": "stdout",
     "output_type": "stream",
     "text": [
      "6\n",
      "abc\n",
      "[1, 2, 3, 'a', 'b', 'c', 3.14, 2.72, 1.69]\n"
     ]
    }
   ],
   "source": [
    "def addEm(x,y,z):\n",
    "    return x+y+z\n",
    "    print('The answer is', x+y+z)\n",
    "\n",
    "print(addEm(1,2,3))\n",
    "print(addEm('a', 'b', 'c'))\n",
    "print(addEm([1,2,3], ['a', 'b', 'c'], [3.14, 2.72, 1.69]))"
   ]
  },
  {
   "cell_type": "code",
   "execution_count": 14,
   "metadata": {},
   "outputs": [
    {
     "name": "stdout",
     "output_type": "stream",
     "text": [
      "g\n",
      "5\n",
      "square\n",
      "25\n"
     ]
    }
   ],
   "source": [
    "def square(x):\n",
    "    print(\"square\")\n",
    "    return x*x\n",
    "\n",
    "def g(y):\n",
    "    print(\"g\")\n",
    "    print(y+3)\n",
    "    return y+3\n",
    "\n",
    "print(square(g(2)))"
   ]
  },
  {
   "cell_type": "code",
   "execution_count": 16,
   "metadata": {},
   "outputs": [
    {
     "name": "stdout",
     "output_type": "stream",
     "text": [
      "Enter a string: cihan\n"
     ]
    },
    {
     "data": {
      "text/plain": [
       "'cihan'"
      ]
     },
     "execution_count": 16,
     "metadata": {},
     "output_type": "execute_result"
    }
   ],
   "source": [
    "def same(s):\n",
    "    return s\n",
    "\n",
    "str_1 = input(\"Enter a string: \")\n",
    "same(str_1)"
   ]
  },
  {
   "cell_type": "code",
   "execution_count": 18,
   "metadata": {},
   "outputs": [
    {
     "name": "stdout",
     "output_type": "stream",
     "text": [
      "Enter the name as 'Becky':  ---> Becky\n",
      "Hello, my name is Becky and I love Python.\n",
      "Hello, my name is Becky and I love Python.\n",
      "Hello, my name is Becky and I love Python.\n"
     ]
    }
   ],
   "source": [
    "def intro(str_1):\n",
    "    print(\"Hello, my name is %s and I love Python.\" %str_1)\n",
    "    print(\"Hello, my name is {} and I love Python.\".format(str_1))\n",
    "    return \"Hello, my name is \" + str_1 + \" and I love Python.\"\n",
    "\n",
    "string = input(\"Enter the name as 'Becky':  ---> \")\n",
    "print(intro(string))"
   ]
  },
  {
   "cell_type": "code",
   "execution_count": 19,
   "metadata": {},
   "outputs": [
    {
     "name": "stdout",
     "output_type": "stream",
     "text": [
      "Enter a string: to be or not to be, that is the question!\n",
      "This is a long string\n",
      "This is a short string\n",
      "Hello Python!\n"
     ]
    }
   ],
   "source": [
    "def decision(s):\n",
    "    if len(s) > 17:\n",
    "        return \"This is a long string\"\n",
    "    else:\n",
    "        return 'This is a short string'\n",
    "\n",
    "string = input('Enter a string: ')\n",
    "print(decision(string))\n",
    "string = \"Hello Python!\"\n",
    "print(decision(string))\n",
    "print(string)"
   ]
  },
  {
   "cell_type": "code",
   "execution_count": 25,
   "metadata": {},
   "outputs": [
    {
     "name": "stdout",
     "output_type": "stream",
     "text": [
      "Enter a number: 3\n",
      "10\n"
     ]
    }
   ],
   "source": [
    "def change(n):\n",
    "    return n+7\n",
    "\n",
    "number = input(\"Enter a number: \")\n",
    "print(change(int(number)))"
   ]
  },
  {
   "cell_type": "code",
   "execution_count": 28,
   "metadata": {},
   "outputs": [
    {
     "name": "stdout",
     "output_type": "stream",
     "text": [
      "55\n",
      "\n",
      "15\n",
      "\n",
      "Enter list_2 elements: 1\n",
      "Enter list_2 elements: 2\n",
      "Enter list_2 elements: 3\n",
      "Enter list_2 elements: 4\n",
      "Enter list_2 elements: 5\n",
      "[1, 2, 3, 4, 5]\n",
      "15\n"
     ]
    }
   ],
   "source": [
    "def total(n):\n",
    "    total = 0\n",
    "    for i in n:\n",
    "        total += i # total = total + i\n",
    "    return total\n",
    "\n",
    "m = list(range(1,10+1))\n",
    "print(total(m))\n",
    "print()\n",
    "\n",
    "list_1 = [1, 2, 3, 4, 5]\n",
    "print(total(list_1))\n",
    "print()\n",
    "\n",
    "list_2 = []\n",
    "for i in range(1, 5+1):\n",
    "    number = int(input(\"Enter list_2 elements: \"))\n",
    "    list_2.append(number)\n",
    "\n",
    "print(list_2)\n",
    "print(total(list_2))"
   ]
  },
  {
   "cell_type": "code",
   "execution_count": 35,
   "metadata": {},
   "outputs": [
    {
     "name": "stdout",
     "output_type": "stream",
     "text": [
      "['__add__', '__class__', '__contains__', '__delattr__', '__delitem__', '__dir__', '__doc__', '__eq__', '__format__', '__ge__', '__getattribute__', '__getitem__', '__gt__', '__hash__', '__iadd__', '__imul__', '__init__', '__init_subclass__', '__iter__', '__le__', '__len__', '__lt__', '__mul__', '__ne__', '__new__', '__reduce__', '__reduce_ex__', '__repr__', '__reversed__', '__rmul__', '__setattr__', '__setitem__', '__sizeof__', '__str__', '__subclasshook__', 'append', 'clear', 'copy', 'count', 'extend', 'index', 'insert', 'pop', 'remove', 'reverse', 'sort']\n",
      "Help on method_descriptor:\n",
      "\n",
      "count(self, value, /)\n",
      "    Return number of occurrences of value.\n",
      "\n",
      "\n",
      "Append object to the end of the list.\n",
      "\n",
      "Help on method_descriptor:\n",
      "\n",
      "append(self, object, /)\n",
      "    Append object to the end of the list.\n",
      "\n"
     ]
    }
   ],
   "source": [
    "print(dir(list))\n",
    "help(list.count)\n",
    "print()\n",
    "print(list.append.__doc__)\n",
    "print()\n",
    "help(list.append)"
   ]
  },
  {
   "cell_type": "code",
   "execution_count": 37,
   "metadata": {},
   "outputs": [
    {
     "name": "stdout",
     "output_type": "stream",
     "text": [
      "10\n",
      "\n",
      "5\n",
      "\n",
      "Enter list_2 elements: 1\n",
      "Enter list_2 elements: 2\n",
      "Enter list_2 elements: 3\n",
      "Enter list_2 elements: 4\n",
      "Enter list_2 elements: 5\n",
      "Enter list_2 elements: 6\n",
      "Enter list_2 elements: 7\n",
      "[1, 2, 3, 4, 5, 6, 7]\n",
      "7\n"
     ]
    }
   ],
   "source": [
    "def count(n):\n",
    "    count = 0\n",
    "    for i in n:\n",
    "        count += 1\n",
    "    return count\n",
    "\n",
    "m = list(range(1,10+1))\n",
    "print(count(m))\n",
    "print()\n",
    "\n",
    "list_1 = [1, 2, 3, 4, 5]\n",
    "print(count(list_1))\n",
    "print()\n",
    "\n",
    "list_2 = []\n",
    "for i in range(1, 7+1):\n",
    "    number = int(input(\"Enter list_2 elements: \"))\n",
    "    list_2.append(number)\n",
    "\n",
    "print(list_2)\n",
    "print(count(list_2))"
   ]
  },
  {
   "cell_type": "code",
   "execution_count": 38,
   "metadata": {},
   "outputs": [
    {
     "name": "stdout",
     "output_type": "stream",
     "text": [
      "The value is 99\n",
      "I'm changing the value.\n",
      "Now the value is 0\n",
      "Back in main the value is 99\n"
     ]
    }
   ],
   "source": [
    "def main():\n",
    "    value = 99\n",
    "    print(\"The value is\", value)\n",
    "    change_me(value)\n",
    "    print(\"Back in main the value is\", value)\n",
    "    \n",
    "def change_me(arg):\n",
    "    print('I\\'m changing the value.')\n",
    "    arg = 0\n",
    "    print(\"Now the value is\", arg)\n",
    "    \n",
    "main()"
   ]
  },
  {
   "cell_type": "code",
   "execution_count": 40,
   "metadata": {},
   "outputs": [
    {
     "name": "stdout",
     "output_type": "stream",
     "text": [
      "7\n",
      "\n",
      "abc\n",
      "abc\n",
      "bac\n",
      "bac\n",
      "\n",
      "4.140000000000001\n",
      "1 + 3.14 = 4.140\n",
      "4.14 a\n"
     ]
    },
    {
     "data": {
      "text/plain": [
       "'1 3.14 a'"
      ]
     },
     "execution_count": 40,
     "metadata": {},
     "output_type": "execute_result"
    }
   ],
   "source": [
    "def f(a = 1, b= 3.14, c = 'a'):\n",
    "    print(a + b)\n",
    "    print(\"%d + %.2f = %.3f\" %(a, b, a+b))\n",
    "    print(\"{0:.2f} {1}\".format(a+b,c))\n",
    "    return str(a) + ' ' + str(b) + ' ' + c\n",
    "\n",
    "def f1(a, b=3):\n",
    "    return a+b\n",
    "\n",
    "def f2(a, b, c = 'c'):\n",
    "    print(a + b + c)\n",
    "    return a+b+c\n",
    "\n",
    "y = 4\n",
    "print(f1(y))\n",
    "print()\n",
    "\n",
    "str_1 = 'a'\n",
    "str_2 = 'b'\n",
    "print(f2(str_1, str_2))\n",
    "print(f2(str_2, str_1))\n",
    "print()\n",
    "\n",
    "f()"
   ]
  },
  {
   "cell_type": "code",
   "execution_count": 41,
   "metadata": {},
   "outputs": [
    {
     "ename": "SyntaxError",
     "evalue": "non-default argument follows default argument (<ipython-input-41-eca5212eca36>, line 2)",
     "output_type": "error",
     "traceback": [
      "\u001b[1;36m  File \u001b[1;32m\"<ipython-input-41-eca5212eca36>\"\u001b[1;36m, line \u001b[1;32m2\u001b[0m\n\u001b[1;33m    def f3(a, b = 'b', c):\u001b[0m\n\u001b[1;37m          ^\u001b[0m\n\u001b[1;31mSyntaxError\u001b[0m\u001b[1;31m:\u001b[0m non-default argument follows default argument\n"
     ]
    }
   ],
   "source": [
    "str_2 = 'c'\n",
    "def f3(a, b = 'b', c):\n",
    "    print(a + b + c)\n",
    "    return a + b + c\n",
    "\n",
    "print(f2(str_1, str_2))"
   ]
  },
  {
   "cell_type": "code",
   "execution_count": 46,
   "metadata": {},
   "outputs": [
    {
     "name": "stdout",
     "output_type": "stream",
     "text": [
      "100\n"
     ]
    },
    {
     "ename": "NameError",
     "evalue": "name 'x_1' is not defined",
     "output_type": "error",
     "traceback": [
      "\u001b[1;31m---------------------------------------------------------------------------\u001b[0m",
      "\u001b[1;31mNameError\u001b[0m                                 Traceback (most recent call last)",
      "\u001b[1;32m<ipython-input-46-d8ac113d6722>\u001b[0m in \u001b[0;36m<module>\u001b[1;34m\u001b[0m\n\u001b[0;32m      6\u001b[0m \u001b[0mprint\u001b[0m\u001b[1;33m(\u001b[0m\u001b[0mz\u001b[0m\u001b[1;33m)\u001b[0m\u001b[1;33m\u001b[0m\u001b[1;33m\u001b[0m\u001b[0m\n\u001b[0;32m      7\u001b[0m \u001b[1;31m# y_1 = 5\u001b[0m\u001b[1;33m\u001b[0m\u001b[1;33m\u001b[0m\u001b[1;33m\u001b[0m\u001b[0m\n\u001b[1;32m----> 8\u001b[1;33m \u001b[0mprint\u001b[0m\u001b[1;33m(\u001b[0m\u001b[0mx_1\u001b[0m\u001b[1;33m)\u001b[0m\u001b[1;33m\u001b[0m\u001b[1;33m\u001b[0m\u001b[0m\n\u001b[0m",
      "\u001b[1;31mNameError\u001b[0m: name 'x_1' is not defined"
     ]
    }
   ],
   "source": [
    "def square(x_1):\n",
    "    y_1 = x_1 * x_1\n",
    "    return y_1\n",
    "\n",
    "z=square(10)\n",
    "print(z)\n",
    "# y_1 = 5\n",
    "print(x_1)"
   ]
  },
  {
   "cell_type": "code",
   "execution_count": null,
   "metadata": {},
   "outputs": [],
   "source": []
  }
 ],
 "metadata": {
  "kernelspec": {
   "display_name": "Python 3",
   "language": "python",
   "name": "python3"
  },
  "language_info": {
   "codemirror_mode": {
    "name": "ipython",
    "version": 3
   },
   "file_extension": ".py",
   "mimetype": "text/x-python",
   "name": "python",
   "nbconvert_exporter": "python",
   "pygments_lexer": "ipython3",
   "version": "3.7.4"
  }
 },
 "nbformat": 4,
 "nbformat_minor": 2
}
