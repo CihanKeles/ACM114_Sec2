{
 "cells": [
  {
   "cell_type": "code",
   "execution_count": 2,
   "metadata": {},
   "outputs": [
    {
     "name": "stdout",
     "output_type": "stream",
     "text": [
      "44\n"
     ]
    }
   ],
   "source": [
    "def adding(x, y = 3):\n",
    "    z = y + x + x\n",
    "    return z\n",
    "\n",
    "def producing(x, y):\n",
    "    z = x * y\n",
    "    return z\n",
    "\n",
    "print(producing(adding(4), 4))"
   ]
  },
  {
   "cell_type": "code",
   "execution_count": 3,
   "metadata": {},
   "outputs": [
    {
     "name": "stdout",
     "output_type": "stream",
     "text": [
      "x inside:  global\n",
      "x outside:  global\n"
     ]
    }
   ],
   "source": [
    "x = \"global\"\n",
    "\n",
    "def func_1():\n",
    "    print(\"x inside: \", x)\n",
    "    \n",
    "func_1()\n",
    "print(\"x outside: \", x)"
   ]
  },
  {
   "cell_type": "code",
   "execution_count": 4,
   "metadata": {},
   "outputs": [
    {
     "ename": "UnboundLocalError",
     "evalue": "local variable 'x' referenced before assignment",
     "output_type": "error",
     "traceback": [
      "\u001b[1;31m---------------------------------------------------------------------------\u001b[0m",
      "\u001b[1;31mUnboundLocalError\u001b[0m                         Traceback (most recent call last)",
      "\u001b[1;32m<ipython-input-4-6d1d24c16f37>\u001b[0m in \u001b[0;36m<module>\u001b[1;34m\u001b[0m\n\u001b[0;32m      5\u001b[0m     \u001b[0mprint\u001b[0m\u001b[1;33m(\u001b[0m\u001b[0mx\u001b[0m\u001b[1;33m)\u001b[0m\u001b[1;33m\u001b[0m\u001b[1;33m\u001b[0m\u001b[0m\n\u001b[0;32m      6\u001b[0m \u001b[1;33m\u001b[0m\u001b[0m\n\u001b[1;32m----> 7\u001b[1;33m \u001b[0mfunc_2\u001b[0m\u001b[1;33m(\u001b[0m\u001b[1;33m)\u001b[0m\u001b[1;33m\u001b[0m\u001b[1;33m\u001b[0m\u001b[0m\n\u001b[0m",
      "\u001b[1;32m<ipython-input-4-6d1d24c16f37>\u001b[0m in \u001b[0;36mfunc_2\u001b[1;34m()\u001b[0m\n\u001b[0;32m      2\u001b[0m \u001b[1;33m\u001b[0m\u001b[0m\n\u001b[0;32m      3\u001b[0m \u001b[1;32mdef\u001b[0m \u001b[0mfunc_2\u001b[0m\u001b[1;33m(\u001b[0m\u001b[1;33m)\u001b[0m\u001b[1;33m:\u001b[0m\u001b[1;33m\u001b[0m\u001b[1;33m\u001b[0m\u001b[0m\n\u001b[1;32m----> 4\u001b[1;33m     \u001b[0mx\u001b[0m \u001b[1;33m=\u001b[0m \u001b[0mx\u001b[0m \u001b[1;33m*\u001b[0m \u001b[1;36m2\u001b[0m\u001b[1;33m\u001b[0m\u001b[1;33m\u001b[0m\u001b[0m\n\u001b[0m\u001b[0;32m      5\u001b[0m     \u001b[0mprint\u001b[0m\u001b[1;33m(\u001b[0m\u001b[0mx\u001b[0m\u001b[1;33m)\u001b[0m\u001b[1;33m\u001b[0m\u001b[1;33m\u001b[0m\u001b[0m\n\u001b[0;32m      6\u001b[0m \u001b[1;33m\u001b[0m\u001b[0m\n",
      "\u001b[1;31mUnboundLocalError\u001b[0m: local variable 'x' referenced before assignment"
     ]
    }
   ],
   "source": [
    "x = \"global\"\n",
    "\n",
    "def func_2():\n",
    "    x = x * 2\n",
    "    print(x)\n",
    "    \n",
    "func_2()"
   ]
  },
  {
   "cell_type": "code",
   "execution_count": 5,
   "metadata": {},
   "outputs": [
    {
     "ename": "NameError",
     "evalue": "name 'y_local' is not defined",
     "output_type": "error",
     "traceback": [
      "\u001b[1;31m---------------------------------------------------------------------------\u001b[0m",
      "\u001b[1;31mNameError\u001b[0m                                 Traceback (most recent call last)",
      "\u001b[1;32m<ipython-input-5-c0ca9f6c6a70>\u001b[0m in \u001b[0;36m<module>\u001b[1;34m\u001b[0m\n\u001b[0;32m      3\u001b[0m \u001b[1;33m\u001b[0m\u001b[0m\n\u001b[0;32m      4\u001b[0m \u001b[0mfunc_3\u001b[0m\u001b[1;33m(\u001b[0m\u001b[1;33m)\u001b[0m\u001b[1;33m\u001b[0m\u001b[1;33m\u001b[0m\u001b[0m\n\u001b[1;32m----> 5\u001b[1;33m \u001b[0mprint\u001b[0m\u001b[1;33m(\u001b[0m\u001b[0my_local\u001b[0m\u001b[1;33m)\u001b[0m\u001b[1;33m\u001b[0m\u001b[1;33m\u001b[0m\u001b[0m\n\u001b[0m",
      "\u001b[1;31mNameError\u001b[0m: name 'y_local' is not defined"
     ]
    }
   ],
   "source": [
    "def func_3():\n",
    "    y_local = \"local\"\n",
    "    \n",
    "func_3()\n",
    "print(y_local)"
   ]
  },
  {
   "cell_type": "code",
   "execution_count": 6,
   "metadata": {},
   "outputs": [
    {
     "name": "stdout",
     "output_type": "stream",
     "text": [
      "local\n"
     ]
    }
   ],
   "source": [
    "def func_3():\n",
    "    y_local = \"local\"\n",
    "    print(y_local)\n",
    "\n",
    "func_3()"
   ]
  },
  {
   "cell_type": "code",
   "execution_count": 7,
   "metadata": {},
   "outputs": [
    {
     "name": "stdout",
     "output_type": "stream",
     "text": [
      "globalglobal\n",
      "local\n"
     ]
    }
   ],
   "source": [
    "x_global = \"global\"\n",
    "\n",
    "def func_4():\n",
    "    global x\n",
    "    y_local = \"local\"\n",
    "    x_global = x * 2\n",
    "    print(x_global)\n",
    "    print(y_local)\n",
    "    \n",
    "func_4()"
   ]
  },
  {
   "cell_type": "code",
   "execution_count": 8,
   "metadata": {},
   "outputs": [
    {
     "name": "stdout",
     "output_type": "stream",
     "text": [
      "local x:  10\n",
      "global x:  5\n"
     ]
    }
   ],
   "source": [
    "x = 5\n",
    "\n",
    "def func_5():\n",
    "    x = 10\n",
    "    print(\"local x: \", x)\n",
    "    \n",
    "func_5()\n",
    "print(\"global x: \", x)"
   ]
  },
  {
   "cell_type": "code",
   "execution_count": 12,
   "metadata": {},
   "outputs": [
    {
     "name": "stdout",
     "output_type": "stream",
     "text": [
      "25\n",
      "1\n",
      "Return random integer in range [a, b], including both end points.\n",
      "        \n",
      "['BPF', 'LOG4', 'NV_MAGICCONST', 'RECIP_BPF', 'Random', 'SG_MAGICCONST', 'SystemRandom', 'TWOPI', '_BuiltinMethodType', '_MethodType', '_Sequence', '_Set', '__all__', '__builtins__', '__cached__', '__doc__', '__file__', '__loader__', '__name__', '__package__', '__spec__', '_acos', '_bisect', '_ceil', '_cos', '_e', '_exp', '_inst', '_itertools', '_log', '_os', '_pi', '_random', '_sha512', '_sin', '_sqrt', '_test', '_test_generator', '_urandom', '_warn', 'betavariate', 'choice', 'choices', 'expovariate', 'gammavariate', 'gauss', 'getrandbits', 'getstate', 'lognormvariate', 'normalvariate', 'paretovariate', 'randint', 'random', 'randrange', 'sample', 'seed', 'setstate', 'shuffle', 'triangular', 'uniform', 'vonmisesvariate', 'weibullvariate']\n",
      "Help on method randint in module random:\n",
      "\n",
      "randint(a, b) method of random.Random instance\n",
      "    Return random integer in range [a, b], including both end points.\n",
      "\n",
      "None\n"
     ]
    },
    {
     "ename": "TypeError",
     "evalue": "randint() missing 2 required positional arguments: 'a' and 'b'",
     "output_type": "error",
     "traceback": [
      "\u001b[1;31m---------------------------------------------------------------------------\u001b[0m",
      "\u001b[1;31mTypeError\u001b[0m                                 Traceback (most recent call last)",
      "\u001b[1;32m<ipython-input-12-4b5ce690c38f>\u001b[0m in \u001b[0;36m<module>\u001b[1;34m\u001b[0m\n\u001b[0;32m     11\u001b[0m \u001b[0mprint\u001b[0m\u001b[1;33m(\u001b[0m\u001b[0mhelp\u001b[0m\u001b[1;33m(\u001b[0m\u001b[0mrandom\u001b[0m\u001b[1;33m.\u001b[0m\u001b[0mrandint\u001b[0m\u001b[1;33m)\u001b[0m\u001b[1;33m)\u001b[0m\u001b[1;33m\u001b[0m\u001b[1;33m\u001b[0m\u001b[0m\n\u001b[0;32m     12\u001b[0m \u001b[1;33m\u001b[0m\u001b[0m\n\u001b[1;32m---> 13\u001b[1;33m \u001b[0mnumber\u001b[0m \u001b[1;33m=\u001b[0m \u001b[0mrandom\u001b[0m\u001b[1;33m.\u001b[0m\u001b[0mrandint\u001b[0m\u001b[1;33m(\u001b[0m\u001b[1;33m)\u001b[0m\u001b[1;33m\u001b[0m\u001b[1;33m\u001b[0m\u001b[0m\n\u001b[0m\u001b[0;32m     14\u001b[0m \u001b[0mprint\u001b[0m\u001b[1;33m(\u001b[0m\u001b[0mnumber\u001b[0m\u001b[1;33m)\u001b[0m\u001b[1;33m\u001b[0m\u001b[1;33m\u001b[0m\u001b[0m\n",
      "\u001b[1;31mTypeError\u001b[0m: randint() missing 2 required positional arguments: 'a' and 'b'"
     ]
    }
   ],
   "source": [
    "import random\n",
    "\n",
    "number = random.randint(0, 100)\n",
    "print(number)\n",
    "\n",
    "number = random.randint(1, 5)\n",
    "print(number)\n",
    "\n",
    "print(random.randint.__doc__)\n",
    "print(dir(random))\n",
    "print(help(random.randint))\n",
    "\n",
    "number = random.randint()\n",
    "print(number)"
   ]
  },
  {
   "cell_type": "code",
   "execution_count": 14,
   "metadata": {},
   "outputs": [
    {
     "name": "stdout",
     "output_type": "stream",
     "text": [
      "9\n",
      "10\n",
      "Help on method randrange in module random:\n",
      "\n",
      "randrange(start, stop=None, step=1, _int=<class 'int'>) method of random.Random instance\n",
      "    Choose a random item from range(start, stop[, step]).\n",
      "    \n",
      "    This fixes the problem with randint() which includes the\n",
      "    endpoint; in Python this is usually not what you want.\n",
      "\n",
      "None\n"
     ]
    }
   ],
   "source": [
    "import random \n",
    "\n",
    "n = random.randrange(5, 10)\n",
    "print(n)\n",
    "\n",
    "n = random.randrange(5, 20, 5)\n",
    "print(n)\n",
    "\n",
    "print(help(random.randrange))"
   ]
  },
  {
   "cell_type": "code",
   "execution_count": 15,
   "metadata": {},
   "outputs": [
    {
     "name": "stdout",
     "output_type": "stream",
     "text": [
      "0.7172385264729433\n",
      "\n",
      "21.433906059270903\n",
      "\n",
      "297.3747199709221\n",
      "244.47899367970172\n",
      "396.69692555464076\n",
      "976.7648647191288\n",
      "655.0872505726404\n",
      "\n",
      "Help on built-in function random:\n",
      "\n",
      "random(...) method of random.Random instance\n",
      "    random() -> x in the interval [0, 1).\n",
      "\n",
      "None\n",
      "\n",
      "8.117201096259862\n",
      "\n",
      "Help on method uniform in module random:\n",
      "\n",
      "uniform(a, b) method of random.Random instance\n",
      "    Get a random number in the range [a, b) or [a, b] depending on rounding.\n",
      "\n",
      "None\n"
     ]
    }
   ],
   "source": [
    "import random\n",
    "\n",
    "m = random.random()\n",
    "print(m)\n",
    "print()\n",
    "\n",
    "m = random.random() * 100\n",
    "print(m)\n",
    "print()\n",
    "\n",
    "for i in range(5):\n",
    "    m = random.random() * 1000\n",
    "    print(m)\n",
    "    \n",
    "print()\n",
    "print(help(random.random))\n",
    "print()\n",
    "\n",
    "k = random.uniform(1, 100)\n",
    "print(k)\n",
    "print()\n",
    "print(help(random.uniform))"
   ]
  },
  {
   "cell_type": "code",
   "execution_count": 18,
   "metadata": {},
   "outputs": [
    {
     "name": "stdout",
     "output_type": "stream",
     "text": [
      "green\n",
      "Help on method choice in module random:\n",
      "\n",
      "choice(seq) method of random.Random instance\n",
      "    Choose a random element from a non-empty sequence.\n",
      "\n",
      "None\n",
      "\n",
      "Ipsum\n",
      "[10, 'Lorem', 482, 2, 'Ipsum', False, 109]\n",
      "\n"
     ]
    }
   ],
   "source": [
    "import random\n",
    "\n",
    "print(random.choice([\"red\", \"black\", \"green\"]))\n",
    "\n",
    "myList = [2, 109, False, 10, \"Lorem\", 482, \"Ipsum\"]\n",
    "print(help(random.choice))\n",
    "print()\n",
    "print(random.choice(myList))\n",
    "\n",
    "random.shuffle(myList)\n",
    "print(myList)\n",
    "print()"
   ]
  },
  {
   "cell_type": "code",
   "execution_count": 22,
   "metadata": {},
   "outputs": [
    {
     "name": "stdout",
     "output_type": "stream",
     "text": [
      "reshuffled list  [40, 60, 50, 10, 30, 20]\n",
      "reshuffled list  [40, 50, 10, 20, 30, 60]\n",
      "\n",
      "Help on method seed in module random:\n",
      "\n",
      "seed(a=None, version=2) method of random.Random instance\n",
      "    Initialize internal state from hashable object.\n",
      "    \n",
      "    None or no argument seeds from current time or from an operating\n",
      "    system specific randomness source if available.\n",
      "    \n",
      "    If *a* is an int, all bits are used.\n",
      "    \n",
      "    For version 2 (the default), all of the bits are used if *a* is a str,\n",
      "    bytes, or bytearray.  For version 1 (provided for reproducing random\n",
      "    sequences from older versions of Python), the algorithm for str and\n",
      "    bytes generates a narrower range of seeds.\n",
      "\n",
      "None\n",
      "\n"
     ]
    }
   ],
   "source": [
    "import random as r\n",
    "\n",
    "numbers = [10, 20, 30, 40, 50, 60]\n",
    "r.seed(4)\n",
    "r.shuffle(numbers)\n",
    "print(\"reshuffled list \", numbers)\n",
    "r.seed(3)\n",
    "r.shuffle(numbers)\n",
    "print(\"reshuffled list \", numbers)\n",
    "print()\n",
    "print(help(random.seed))\n",
    "print()"
   ]
  },
  {
   "cell_type": "code",
   "execution_count": 25,
   "metadata": {},
   "outputs": [
    {
     "name": "stdout",
     "output_type": "stream",
     "text": [
      "dict_keys(['heads', 'tails'])\n",
      "['heads', 'tails']\n",
      "Heads: 4979\n",
      "Tails: 5021\n"
     ]
    }
   ],
   "source": [
    "from random import *\n",
    "\n",
    "outcomes = {'heads': 0,\n",
    "            'tails': 0}\n",
    "\n",
    "print(outcomes.keys())\n",
    "sides = list(outcomes.keys())\n",
    "print(sides)\n",
    "\n",
    "for i in range(10000):\n",
    "    outcomes[choice(sides)] += 1\n",
    "    \n",
    "print('Heads:', outcomes['heads'])\n",
    "print('Tails:', outcomes['tails'])"
   ]
  },
  {
   "cell_type": "code",
   "execution_count": 26,
   "metadata": {},
   "outputs": [
    {
     "name": "stdout",
     "output_type": "stream",
     "text": [
      "(25, 100, 4.0, 0, 4)\n"
     ]
    }
   ],
   "source": [
    "def f(a, b):\n",
    "    return a+b, a*b, a/b, a%b, a//b\n",
    "\n",
    "print(f(20, 5))"
   ]
  },
  {
   "cell_type": "code",
   "execution_count": 36,
   "metadata": {},
   "outputs": [
    {
     "name": "stdout",
     "output_type": "stream",
     "text": [
      "The area of the circle that has a radius 3 is 28.274\n",
      "\n",
      "2.718281828459045\n",
      "\n",
      "20.085536923187668 -----> 20.085536923187664\n",
      "\n",
      "3\n",
      "\n",
      "3\n",
      "\n",
      "True\n",
      "True\n",
      "6.123233995736766e-17\n",
      "-1.0 1.2246467991473532e-16\n",
      "\n",
      "25.0\n",
      "\n",
      "Enter the first side of triangle: 3\n",
      "Enter the second side of triangle: 4\n",
      "Enter the third of triangle: 7\n",
      "False\n"
     ]
    }
   ],
   "source": [
    "from math import *\n",
    "\n",
    "def circleArea(radius):\n",
    "    return \"The area of the circle that has a radius {0} is {1:.3f}\".format(radius, pi * radius ** 2)\n",
    "\n",
    "print(circleArea(3))\n",
    "print()\n",
    "\n",
    "x = 3\n",
    "print(e)\n",
    "print()\n",
    "print(exp(x), \"----->\", e**x)\n",
    "print()\n",
    "y = exp(x)\n",
    "print(int(log(y)))\n",
    "print()\n",
    "x = 1000\n",
    "print(int(log10(x)))\n",
    "print()\n",
    "\n",
    "print(sin(pi/2) == cos(0))\n",
    "print(sin(pi) != cos(pi/2))\n",
    "print(cos(pi/2))\n",
    "print(cos(pi), sin(pi))\n",
    "\n",
    "print()\n",
    "z = hypot(7, 24)\n",
    "print(z)\n",
    "print()\n",
    "\n",
    "def hyp(x, y, z):\n",
    "    if z == sqrt(x * x + y * y):\n",
    "        return True\n",
    "    else:\n",
    "        return False\n",
    "    \n",
    "side1 = int(input(\"Enter the first side of triangle: \"))\n",
    "side2 = int(input(\"Enter the second side of triangle: \"))\n",
    "side3 = int(input(\"Enter the third of triangle: \"))\n",
    "print(hyp(side1, side2, side3))"
   ]
  },
  {
   "cell_type": "code",
   "execution_count": 40,
   "metadata": {},
   "outputs": [
    {
     "name": "stdout",
     "output_type": "stream",
     "text": [
      "Enter the target value: 6\n",
      "Enter the guessed value: 2.3\n",
      "5.289999999999999\n",
      "0.7100000000000009\n",
      "2.4543478260869565\n",
      "6.023823251417769\n",
      "2.449494550775985\n",
      "6.000023554281244\n",
      "\n",
      "Square root of 6 is 2.45\n",
      "\n",
      "Square root of 6 is 2.45\n"
     ]
    }
   ],
   "source": [
    "# Square root calculation method without using math module\n",
    "import math as m\n",
    "targetValue = int(input(\"Enter the target value: \"))\n",
    "guessValue = float(input(\"Enter the guessed value: \"))\n",
    "squareOfGuess = guessValue * guessValue\n",
    "print(squareOfGuess)\n",
    "print(abs(targetValue - squareOfGuess))\n",
    "while abs(targetValue - squareOfGuess) > 0.01:\n",
    "    convergence = targetValue / guessValue\n",
    "    guessValue = (guessValue + convergence) / 2.0\n",
    "    print(guessValue)\n",
    "    squareOfGuess = guessValue * guessValue\n",
    "    print(squareOfGuess)\n",
    "    \n",
    "print()\n",
    "print(\"Square root of %d is %.2f\" %(targetValue, guessValue))\n",
    "print()\n",
    "print(\"Square root of {0} is {1:.2f}\".format(targetValue, m.sqrt(targetValue)))"
   ]
  },
  {
   "cell_type": "code",
   "execution_count": 41,
   "metadata": {},
   "outputs": [
    {
     "name": "stdout",
     "output_type": "stream",
     "text": [
      "3\n",
      "3\n",
      "5\n",
      "5\n"
     ]
    }
   ],
   "source": [
    "def absolute(x):\n",
    "    if x < 0:\n",
    "        return x * -1\n",
    "    else:\n",
    "        return x\n",
    "    \n",
    "print(absolute(-3))\n",
    "print(abs(-3))\n",
    "print(absolute(5))\n",
    "print(abs(5))"
   ]
  },
  {
   "cell_type": "code",
   "execution_count": 45,
   "metadata": {},
   "outputs": [
    {
     "name": "stdout",
     "output_type": "stream",
     "text": [
      "['__doc__', '__loader__', '__name__', '__package__', '__spec__', 'acos', 'acosh', 'asin', 'asinh', 'atan', 'atan2', 'atanh', 'ceil', 'copysign', 'cos', 'cosh', 'degrees', 'e', 'erf', 'erfc', 'exp', 'expm1', 'fabs', 'factorial', 'floor', 'fmod', 'frexp', 'fsum', 'gamma', 'gcd', 'hypot', 'inf', 'isclose', 'isfinite', 'isinf', 'isnan', 'ldexp', 'lgamma', 'log', 'log10', 'log1p', 'log2', 'modf', 'nan', 'pi', 'pow', 'radians', 'remainder', 'sin', 'sinh', 'sqrt', 'tan', 'tanh', 'tau', 'trunc']\n",
      "\n",
      "Return the cosine of x (measured in radians).\n",
      "\n",
      "Help on built-in function sin in module math:\n",
      "\n",
      "sin(x, /)\n",
      "    Return the sine of x (measured in radians).\n",
      "\n",
      "None\n"
     ]
    }
   ],
   "source": [
    "print(dir(math))\n",
    "print()\n",
    "print(m.cos.__doc__)\n",
    "print()\n",
    "print(help(m.sin))"
   ]
  },
  {
   "cell_type": "code",
   "execution_count": null,
   "metadata": {},
   "outputs": [],
   "source": []
  }
 ],
 "metadata": {
  "kernelspec": {
   "display_name": "Python 3",
   "language": "python",
   "name": "python3"
  },
  "language_info": {
   "codemirror_mode": {
    "name": "ipython",
    "version": 3
   },
   "file_extension": ".py",
   "mimetype": "text/x-python",
   "name": "python",
   "nbconvert_exporter": "python",
   "pygments_lexer": "ipython3",
   "version": "3.7.4"
  }
 },
 "nbformat": 4,
 "nbformat_minor": 2
}
