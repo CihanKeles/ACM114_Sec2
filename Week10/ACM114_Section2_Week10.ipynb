{
 "cells": [
  {
   "cell_type": "code",
   "execution_count": 4,
   "metadata": {},
   "outputs": [
    {
     "name": "stdout",
     "output_type": "stream",
     "text": [
      "[[1, 1], [2, 4], [3, 9], [4, 16], [5, 25], [6, 36], [7, 49], [8, 64], [9, 81], [10, 100], [11, 121], [12, 144], [13, 169], [14, 196], [15, 225], [16, 256], [17, 289], [18, 324], [19, 361], [20, 400]]\n",
      "\n",
      "[[1, 1], [2, 4], [3, 9], [4, 16], [5, 25], [6, 36], [7, 49], [8, 64], [9, 81], [10, 100], [11, 121], [12, 144], [13, 169], [14, 196], [15, 225], [16, 256], [17, 289], [18, 324], [19, 361], [20, 400]]\n",
      "\n",
      "[[1], [4], [9], [16], [25], [36], [49], [64], [81], [100], [121], [144], [169], [196], [225], [256], [289], [324], [361], [400]]\n",
      "[[1, 1], [2, 4], [3, 9], [4, 16], [5, 25], [6, 36], [7, 49], [8, 64], [9, 81], [10, 100], [11, 121], [12, 144], [13, 169], [14, 196], [15, 225], [16, 256], [17, 289], [18, 324], [19, 361], [20, 400]]\n"
     ]
    }
   ],
   "source": [
    "# Define a function which can generate and print a list \n",
    "# where the values are square of numbers between 1 and 20 (both included).\n",
    "\n",
    "def printList():\n",
    "    l = list()\n",
    "    l_1 = list()\n",
    "    for i in range(1, 21):\n",
    "        for j in range(i, i+1):\n",
    "            # l_1.extend((j, j**2))\n",
    "            l_1.append(j)\n",
    "            l_1.append(j**2)\n",
    "            l.append(l_1)\n",
    "            l_1 = []\n",
    "    return l\n",
    "\n",
    "print(printList())\n",
    "print()\n",
    "\n",
    "def printList():\n",
    "    l = list()\n",
    "    l_1 = [0, 0]\n",
    "    for i in range(1, 21):\n",
    "        for j in range(i, i+1):\n",
    "            l_1[0] = j\n",
    "            l_1[1] = j**2\n",
    "            l.append(l_1)\n",
    "            l_1 = [0, 0]\n",
    "    return l\n",
    "\n",
    "print(printList())\n",
    "print()\n",
    "\n",
    "def printList():\n",
    "    # With comprehension method\n",
    "    lst = [[j, j**2] for i in range(1, 21) for j in range(i, i+1)]\n",
    "    lst_1 = [[j**2 for j in range(i, i+1)] for i in range(1, 21)]\n",
    "    print(lst_1)\n",
    "    return lst\n",
    "\n",
    "print(printList())"
   ]
  },
  {
   "cell_type": "code",
   "execution_count": 6,
   "metadata": {},
   "outputs": [
    {
     "name": "stdout",
     "output_type": "stream",
     "text": [
      "Enter the magnitude of list: 5\n",
      "Enter elements of the list: ali\n",
      "Enter elements of the list: 3.45\n",
      "Enter elements of the list: 23\n",
      "Enter elements of the list: f\n",
      "Enter elements of the list: Hello Python!\n",
      "['ali', '3.45', '23', 'f', 'Hello Python!']\n",
      "[[], ['ali'], ['ali', '3.45'], ['ali', '3.45', '23'], ['ali', '3.45', '23', 'f'], ['ali', '3.45', '23', 'f', 'Hello Python!'], ['3.45'], ['3.45', '23'], ['3.45', '23', 'f'], ['3.45', '23', 'f', 'Hello Python!'], ['23'], ['23', 'f'], ['23', 'f', 'Hello Python!'], ['f'], ['f', 'Hello Python!'], ['Hello Python!']]\n"
     ]
    }
   ],
   "source": [
    "# Python program to print all sublist from a given list\n",
    "# function to generate all the sub-lists\n",
    "\n",
    "def sub_lists(list1):\n",
    "    \n",
    "    # store all the sub-lists\n",
    "    sublist = [[]]\n",
    "    \n",
    "    # first loop\n",
    "    for i in range(len(list1)+1):\n",
    "        \n",
    "        # second loop\n",
    "        for j in range(i+1, len(list1)+1):\n",
    "            \n",
    "            # Slice the subarray(sub-list)\n",
    "            sub = list1[i:j]\n",
    "            sublist.append(sub)\n",
    "            \n",
    "    return sublist\n",
    "\n",
    "# driver code\n",
    "n = int(input(\"Enter the magnitude of list: \"))\n",
    "l1 = []\n",
    "for i in range(0, n):\n",
    "    element = input(\"Enter elements of the list: \")\n",
    "    l1.append(element)\n",
    "\n",
    "print(l1)\n",
    "print(sub_lists(l1))"
   ]
  },
  {
   "cell_type": "code",
   "execution_count": 11,
   "metadata": {},
   "outputs": [
    {
     "name": "stdout",
     "output_type": "stream",
     "text": [
      "([1, 1], [2, 4], [3, 9], [4, 16], [5, 25], [6, 36], [7, 49], [8, 64], [9, 81], [10, 100], [11, 121], [12, 144], [13, 169], [14, 196], [15, 225], [16, 256], [17, 289], [18, 324], [19, 361], [20, 400])\n",
      "\n",
      "([1], [4], [9], [16], [25], [36], [49], [64], [81], [100], [121], [144], [169], [196], [225], [256], [289], [324], [361], [400])\n",
      "(1, 4, 9, 16, 25, 36, 49, 64, 81, 100, 121, 144, 169, 196, 225, 256, 289, 324, 361, 400)\n",
      "([1, 1], [2, 4], [3, 9], [4, 16], [5, 25], [6, 36], [7, 49], [8, 64], [9, 81], [10, 100], [11, 121], [12, 144], [13, 169], [14, 196], [15, 225], [16, 256], [17, 289], [18, 324], [19, 361], [20, 400])\n",
      "\n",
      "((1, 1), (2, 4), (3, 9), (4, 16), (5, 25), (6, 36), (7, 49), (8, 64), (9, 81), (10, 100), (11, 121), (12, 144), (13, 169), (14, 196), (15, 225), (16, 256), (17, 289), (18, 324), (19, 361), (20, 400))\n"
     ]
    }
   ],
   "source": [
    "# Define a function which can generate and print a tuple\n",
    "# where the value are square of numbers between 1 and 20 (both included).\n",
    "\n",
    "def printTuple():\n",
    "    li = list()\n",
    "    li_sub = list()\n",
    "    for i in range(1, 21):\n",
    "        for j in range(i, i+1):\n",
    "            # li_sub.extend((j, j**2))\n",
    "            li_sub.append(j)\n",
    "            li_sub.append(j**2)\n",
    "            li.append(li_sub)\n",
    "            li_sub = []\n",
    "    return tuple(li)\n",
    "\n",
    "print(printTuple())\n",
    "print()\n",
    "\n",
    "def printTupple():\n",
    "    lst = [[j, j**2] for i in range(1,21) for j in range(i, i+1)]\n",
    "    lst_1 = [[j**2 for j in range(i, i+1)] for i in range(1,21)]\n",
    "    lst_2 = [i**2 for i in range(1,21)]\n",
    "    print(tuple(lst_1))\n",
    "    print(tuple(lst_2))\n",
    "    return tuple(lst)\n",
    "\n",
    "print(printTupple())\n",
    "print()\n",
    "\n",
    "def square_of_numbers():\n",
    "    return tuple((i, i**2) for i in range(1,21) for j in range(i, i+1))\n",
    "\n",
    "print(square_of_numbers())"
   ]
  },
  {
   "cell_type": "code",
   "execution_count": 15,
   "metadata": {},
   "outputs": [
    {
     "name": "stdout",
     "output_type": "stream",
     "text": [
      "{1: 1, 2: 4, 3: 9, 4: 16, 5: 25, 6: 36, 7: 49, 8: 64, 9: 81, 10: 100, 11: 121, 12: 144, 13: 169, 14: 196, 15: 225, 16: 256, 17: 289, 18: 324, 19: 361, 20: 400}\n",
      "\n",
      "{1: 1, 2: 4, 3: 9, 4: 16, 5: 25, 6: 36, 7: 49, 8: 64, 9: 81, 10: 100, 11: 121, 12: 144, 13: 169, 14: 196, 15: 225, 16: 256, 17: 289, 18: 324, 19: 361, 20: 400}\n",
      "\n",
      "1\n",
      "2\n",
      "3\n",
      "4\n",
      "5\n",
      "6\n",
      "7\n",
      "8\n",
      "9\n",
      "10\n",
      "11\n",
      "12\n",
      "13\n",
      "14\n",
      "15\n",
      "16\n",
      "17\n",
      "18\n",
      "19\n",
      "20\n",
      "dict_items([(1, 1), (2, 4), (3, 9), (4, 16), (5, 25), (6, 36), (7, 49), (8, 64), (9, 81), (10, 100), (11, 121), (12, 144), (13, 169), (14, 196), (15, 225), (16, 256), (17, 289), (18, 324), (19, 361), (20, 400)])\n",
      "\n",
      "dict_keys([1, 2, 3, 4, 5, 6, 7, 8, 9, 10, 11, 12, 13, 14, 15, 16, 17, 18, 19, 20])\n",
      "dict_values([1, 4, 9, 16, 25, 36, 49, 64, 81, 100, 121, 144, 169, 196, 225, 256, 289, 324, 361, 400])\n"
     ]
    }
   ],
   "source": [
    "def printDict():\n",
    "    d = dict()\n",
    "    for i in range(1,21):\n",
    "        d[i] = i**2\n",
    "    return d\n",
    "\n",
    "print(printDict())\n",
    "print()\n",
    "\n",
    "def printDict():\n",
    "    dict = {i:i**2 for i in range(1,21)}\n",
    "    print(dict)\n",
    "\n",
    "printDict()\n",
    "print()\n",
    "\n",
    "def printDict():\n",
    "    d = dict()\n",
    "    for i in range(1,21):\n",
    "        d[i] = i**2\n",
    "    for k in d.keys():\n",
    "        print(k)\n",
    "    return d.items()\n",
    "\n",
    "print(printDict())\n",
    "print()\n",
    "\n",
    "def printDict():\n",
    "    dict = {i: i**2 for i in range(1,21)}\n",
    "    # print keys of a dictionary\n",
    "    print(dict.keys())\n",
    "    return dict.values()\n",
    "\n",
    "print(printDict())"
   ]
  },
  {
   "cell_type": "markdown",
   "metadata": {},
   "source": [
    "# Anonymous / Lambda Functions"
   ]
  },
  {
   "cell_type": "code",
   "execution_count": 18,
   "metadata": {},
   "outputs": [
    {
     "name": "stdout",
     "output_type": "stream",
     "text": [
      "7\n",
      "7\n"
     ]
    }
   ],
   "source": [
    "def SumFunction(number1, number2):\n",
    "    return number1 + number2\n",
    "\n",
    "print(SumFunction(3,4))\n",
    "\n",
    "# here lambda is use to define little function as sum\n",
    "sum = lambda n1, n2 : n1 + n2\n",
    "print(sum(3,4))"
   ]
  },
  {
   "cell_type": "code",
   "execution_count": 20,
   "metadata": {},
   "outputs": [
    {
     "name": "stdout",
     "output_type": "stream",
     "text": [
      "5\n",
      "23\n",
      "<class 'str'>\n"
     ]
    }
   ],
   "source": [
    "def printValue(n):\n",
    "    print(str(n))\n",
    "    \n",
    "printValue(5)\n",
    "\n",
    "convert = lambda x: str(x)\n",
    "n = convert(23)\n",
    "print(n)\n",
    "print(type(n))"
   ]
  },
  {
   "cell_type": "code",
   "execution_count": 23,
   "metadata": {},
   "outputs": [
    {
     "name": "stdout",
     "output_type": "stream",
     "text": [
      "9\n",
      "145\n",
      "45\n",
      "10045\n"
     ]
    }
   ],
   "source": [
    "def printValue(s1, s2):\n",
    "    print(int(s1) + int(s2))\n",
    "    \n",
    "printValue(\"4\", \"5\") # 9\n",
    "\n",
    "sum = lambda s1, s2 : int(s1) + int(s2)\n",
    "print(sum(\"100\", \"45\")) # 145\n",
    "\n",
    "def printValue(s1, s2):\n",
    "    print(s1 + s2)\n",
    "    \n",
    "printValue(\"4\", \"5\") # 45\n",
    "\n",
    "sum = lambda s1, s2 : s1 + s2\n",
    "print(sum(\"100\", \"45\")) #10045"
   ]
  },
  {
   "cell_type": "code",
   "execution_count": 28,
   "metadata": {},
   "outputs": [
    {
     "name": "stdout",
     "output_type": "stream",
     "text": [
      "Python - python\n",
      "Python\n",
      "python\n",
      "\n",
      "Python\n",
      "python\n"
     ]
    }
   ],
   "source": [
    "# Define a function that can accept two strings as input and \n",
    "# print the strings with maximum length in output\n",
    "# If two strings have the same lenght,\n",
    "# then the funcion should print all strings line by line\n",
    "\n",
    "def printVal(s1, s2):\n",
    "    len1 = len(s1)\n",
    "    len2 = len(s2)\n",
    "    if len1 > len2:\n",
    "        print(s1)\n",
    "    elif len1 < len2:\n",
    "        print(s2)\n",
    "    else:\n",
    "        print(s1)\n",
    "        print(s2)\n",
    "\n",
    "str_1, str_2 = input().split(' - ')\n",
    "printVal(str_1, str_2)\n",
    "print()\n",
    "\n",
    "func = lambda a, b: print(max((a, b), key = len)) if len(a) != len(b) else print(a + '\\n' + b)\n",
    "func(str_1, str_2)"
   ]
  },
  {
   "cell_type": "code",
   "execution_count": 30,
   "metadata": {},
   "outputs": [
    {
     "name": "stdout",
     "output_type": "stream",
     "text": [
      "['__add__', '__class__', '__contains__', '__delattr__', '__delitem__', '__dir__', '__doc__', '__eq__', '__format__', '__ge__', '__getattribute__', '__getitem__', '__gt__', '__hash__', '__iadd__', '__imul__', '__init__', '__init_subclass__', '__iter__', '__le__', '__len__', '__lt__', '__mul__', '__ne__', '__new__', '__reduce__', '__reduce_ex__', '__repr__', '__reversed__', '__rmul__', '__setattr__', '__setitem__', '__sizeof__', '__str__', '__subclasshook__', 'append', 'clear', 'copy', 'count', 'extend', 'index', 'insert', 'pop', 'remove', 'reverse', 'sort']\n",
      "\n",
      "Help on class filter in module builtins:\n",
      "\n",
      "class filter(object)\n",
      " |  filter(function or None, iterable) --> filter object\n",
      " |  \n",
      " |  Return an iterator yielding those items of iterable for which function(item)\n",
      " |  is true. If function is None, return the items that are true.\n",
      " |  \n",
      " |  Methods defined here:\n",
      " |  \n",
      " |  __getattribute__(self, name, /)\n",
      " |      Return getattr(self, name).\n",
      " |  \n",
      " |  __iter__(self, /)\n",
      " |      Implement iter(self).\n",
      " |  \n",
      " |  __next__(self, /)\n",
      " |      Implement next(self).\n",
      " |  \n",
      " |  __reduce__(...)\n",
      " |      Return state information for pickling.\n",
      " |  \n",
      " |  ----------------------------------------------------------------------\n",
      " |  Static methods defined here:\n",
      " |  \n",
      " |  __new__(*args, **kwargs) from builtins.type\n",
      " |      Create and return a new object.  See help(type) for accurate signature.\n",
      "\n",
      "None\n",
      "\n",
      "The magnitude of list: 9\n",
      "Enter elements of the list: 1 5 24 16 13 101 228 85 48\n",
      "['1', '5', '24', '16', '13', '101', '228', '85', '48']\n",
      "['24', '16', '228', '48']\n"
     ]
    }
   ],
   "source": [
    "print(dir(list))\n",
    "print()\n",
    "print(help(filter))\n",
    "print()\n",
    "\n",
    "my_list = []\n",
    "n = int(input(\"The magnitude of list: \"))\n",
    "elem = input(\"Enter elements of the list: \").split()\n",
    "for e in elem:\n",
    "    my_list.append(e)\n",
    "\n",
    "print(my_list)\n",
    "new_list = list(filter(lambda i: (int(i) % 2 == 0), my_list))\n",
    "\n",
    "print(new_list)"
   ]
  },
  {
   "cell_type": "code",
   "execution_count": 33,
   "metadata": {},
   "outputs": [
    {
     "name": "stdout",
     "output_type": "stream",
     "text": [
      "Help on class map in module builtins:\n",
      "\n",
      "class map(object)\n",
      " |  map(func, *iterables) --> map object\n",
      " |  \n",
      " |  Make an iterator that computes the function using arguments from\n",
      " |  each of the iterables.  Stops when the shortest iterable is exhausted.\n",
      " |  \n",
      " |  Methods defined here:\n",
      " |  \n",
      " |  __getattribute__(self, name, /)\n",
      " |      Return getattr(self, name).\n",
      " |  \n",
      " |  __iter__(self, /)\n",
      " |      Implement iter(self).\n",
      " |  \n",
      " |  __next__(self, /)\n",
      " |      Implement next(self).\n",
      " |  \n",
      " |  __reduce__(...)\n",
      " |      Return state information for pickling.\n",
      " |  \n",
      " |  ----------------------------------------------------------------------\n",
      " |  Static methods defined here:\n",
      " |  \n",
      " |  __new__(*args, **kwargs) from builtins.type\n",
      " |      Create and return a new object.  See help(type) for accurate signature.\n",
      "\n",
      "None\n",
      "\n",
      "Enter elements of the list: 1 5 24 16 13 101 228 85 48\n",
      "['1', '5', '24', '16', '13', '101', '228', '85', '48']\n",
      "[1, 125, 13824, 4096, 2197, 1030301, 11852352, 614125, 110592]\n"
     ]
    }
   ],
   "source": [
    "print(help(map))\n",
    "print()\n",
    "\n",
    "my_list = []\n",
    "elem = input(\"Enter elements of the list: \").split()\n",
    "for e in elem:\n",
    "    my_list.append(e)\n",
    "\n",
    "print(my_list)\n",
    "new_list = list(map(lambda i: (int(i) ** 3), my_list))\n",
    "\n",
    "print(new_list)"
   ]
  },
  {
   "cell_type": "markdown",
   "metadata": {},
   "source": [
    "# \\*args and \\**kwargs"
   ]
  },
  {
   "cell_type": "code",
   "execution_count": 34,
   "metadata": {},
   "outputs": [
    {
     "name": "stdout",
     "output_type": "stream",
     "text": [
      "Hello Ali\n",
      "Hello Can\n",
      "Hello Ayşe\n",
      "Hello Elif\n"
     ]
    }
   ],
   "source": [
    "def greetings(*args):\n",
    "    # args is a tuple with arguments\n",
    "    for name in args:\n",
    "        print(\"Hello\", name)\n",
    "greetings(\"Ali\", \"Can\", 'Ayşe', '''Elif''')"
   ]
  },
  {
   "cell_type": "code",
   "execution_count": 38,
   "metadata": {},
   "outputs": [
    {
     "name": "stdout",
     "output_type": "stream",
     "text": [
      "Total:  303\n",
      "\n",
      "Total:  303\n"
     ]
    },
    {
     "ename": "TypeError",
     "evalue": "summation() takes 3 positional arguments but 5 were given",
     "output_type": "error",
     "traceback": [
      "\u001b[1;31m---------------------------------------------------------------------------\u001b[0m",
      "\u001b[1;31mTypeError\u001b[0m                                 Traceback (most recent call last)",
      "\u001b[1;32m<ipython-input-38-7c5b3e4c0489>\u001b[0m in \u001b[0;36m<module>\u001b[1;34m\u001b[0m\n\u001b[0;32m      9\u001b[0m \u001b[1;31m# summation(101,102,103,104,105)\u001b[0m\u001b[1;33m\u001b[0m\u001b[1;33m\u001b[0m\u001b[1;33m\u001b[0m\u001b[0m\n\u001b[0;32m     10\u001b[0m \u001b[0mL2\u001b[0m \u001b[1;33m=\u001b[0m \u001b[1;33m[\u001b[0m\u001b[1;36m101\u001b[0m\u001b[1;33m,\u001b[0m\u001b[1;36m102\u001b[0m\u001b[1;33m,\u001b[0m\u001b[1;36m103\u001b[0m\u001b[1;33m,\u001b[0m\u001b[1;36m104\u001b[0m\u001b[1;33m,\u001b[0m\u001b[1;36m105\u001b[0m\u001b[1;33m]\u001b[0m\u001b[1;33m\u001b[0m\u001b[1;33m\u001b[0m\u001b[0m\n\u001b[1;32m---> 11\u001b[1;33m \u001b[0msummation\u001b[0m\u001b[1;33m(\u001b[0m\u001b[1;33m*\u001b[0m\u001b[0mL2\u001b[0m\u001b[1;33m)\u001b[0m\u001b[1;33m\u001b[0m\u001b[1;33m\u001b[0m\u001b[0m\n\u001b[0m",
      "\u001b[1;31mTypeError\u001b[0m: summation() takes 3 positional arguments but 5 were given"
     ]
    }
   ],
   "source": [
    "def summation(a, b, c):\n",
    "    print(\"Total: \", a+b+c)\n",
    "    \n",
    "summation(100,101,102)\n",
    "print()\n",
    "\n",
    "L1 = [100, 101, 102]\n",
    "summation(*L1)\n",
    "# summation(101,102,103,104,105)\n",
    "L2 = [101,102,103,104,105]\n",
    "summation(*L2)"
   ]
  },
  {
   "cell_type": "code",
   "execution_count": 41,
   "metadata": {},
   "outputs": [
    {
     "name": "stdout",
     "output_type": "stream",
     "text": [
      "Total:  3\n",
      "Total:  12\n",
      "Total:  15\n",
      "Enter elements of the list: 1 5 24 16 13 101 228 85 48\n",
      "['1', '5', '24', '16', '13', '101', '228', '85', '48']\n",
      "[1, 5, 24, 16, 13, 101, 228, 85, 48]\n",
      "Total:  521\n"
     ]
    }
   ],
   "source": [
    "def summation(*numbers):\n",
    "    total = 0\n",
    "    for number in numbers:\n",
    "        total += number\n",
    "    print(\"Total: \", total)\n",
    "\n",
    "summation(1,2)\n",
    "summation(3,4,5)\n",
    "summation(1,2,3,4,5)\n",
    "\n",
    "my_list_1 = []\n",
    "my_list_2 = []\n",
    "elem = input(\"Enter elements of the list: \").split()\n",
    "for e in elem:\n",
    "    my_list_1.append(e)\n",
    "\n",
    "print(my_list_1)\n",
    "for i in my_list_1:\n",
    "    x = int(i)\n",
    "    my_list_2.append(x)\n",
    "    \n",
    "print(my_list_2)\n",
    "summation(*my_list_2)"
   ]
  },
  {
   "cell_type": "code",
   "execution_count": 42,
   "metadata": {},
   "outputs": [
    {
     "name": "stdout",
     "output_type": "stream",
     "text": [
      "Data type of argument:  <class 'dict'>\n",
      "Firstname is Steve\n",
      "Lastname is Roger\n",
      "Age is 85\n",
      "Nickname is Captain America\n",
      "\n",
      "Data type of argument:  <class 'dict'>\n",
      "Firtsname is Anthony Edward\n",
      "Lastname is Stark\n",
      "Email is tonystark@nomail.com\n",
      "Country is USA\n",
      "Origin is Bulgaria\n",
      "Age is 42\n",
      "Nickname is Iron Man\n"
     ]
    }
   ],
   "source": [
    "def name_dict(**kwargs):\n",
    "    print(\"Data type of argument: \", type(kwargs))\n",
    "    \n",
    "    for key, value in kwargs.items():\n",
    "        print(\"{} is {}\".format(key,value))\n",
    "        \n",
    "name_dict(Firstname = \"Steve\", Lastname = 'Roger', Age = \"85\", Nickname = \"Captain America\")\n",
    "print()\n",
    "name_dict(Firtsname = 'Anthony Edward', Lastname = \"Stark\", Email = \"tonystark@nomail.com\", Country = \"USA\", Origin = 'Bulgaria', Age = \"42\", Nickname = \"Iron Man\")"
   ]
  },
  {
   "cell_type": "code",
   "execution_count": 48,
   "metadata": {},
   "outputs": [
    {
     "name": "stdout",
     "output_type": "stream",
     "text": [
      " Coding in Python is exciting!\n",
      "\n",
      "{'1': '1', '2': '4', '3': '9', '4': '16', '5': '25', '6': '36', '7': '49', '8': '64', '9': '81', '10': '100', '11': '121', '12': '144', '13': '169', '14': '196', '15': '225', '16': '256', '17': '289', '18': '324', '19': '361', '20': '400'}\n",
      "\n",
      "0 1 1\n",
      "1 2 4\n",
      "2 3 9\n",
      "3 4 16\n",
      "4 5 25\n",
      "5 6 36\n",
      "6 7 49\n",
      "7 8 64\n",
      "8 9 81\n",
      "9 10 100\n",
      "10 11 121\n",
      "11 12 144\n",
      "12 13 169\n",
      "13 14 196\n",
      "14 15 225\n",
      "15 16 256\n",
      "16 17 289\n",
      "17 18 324\n",
      "18 19 361\n",
      "19 20 400\n",
      "\n",
      " 1 4 9 16 25 36 49 64 81 100 121 144 169 196 225 256 289 324 361 400\n",
      "\n",
      "{1: 'A', 2: 'B', 3: 'C', 4: 'D', 5: 'E', 6: 'F'}\n"
     ]
    }
   ],
   "source": [
    "def concatenate(**words):\n",
    "    result = ''\n",
    "    for arg in words.values():\n",
    "        result += ' ' + arg\n",
    "    return result\n",
    "\n",
    "print(concatenate(a = 'Coding', b = 'in', c = 'Python', d = 'is', e = 'exciting!'))\n",
    "print()\n",
    "D1 = {str(i): str(i**2) for i in range(1,21)}\n",
    "print(D1)\n",
    "print()\n",
    "for index, (k, v) in enumerate(D1.items()):\n",
    "    print(index, k, v)\n",
    "print()\n",
    "print(concatenate(**D1))\n",
    "print()\n",
    "D2 = {1: 'A', 2: 'B', 3: 'C'}\n",
    "D3 = {4: 'D', 5: 'E', 6: 'F'}\n",
    "D4 = {**D2, **D3}\n",
    "print(D4)"
   ]
  },
  {
   "cell_type": "code",
   "execution_count": 54,
   "metadata": {},
   "outputs": [
    {
     "name": "stdout",
     "output_type": "stream",
     "text": [
      "Return the absolute value of the argument.\n",
      "\n",
      "*******************\n",
      "\n",
      "dict() -> new empty dictionary\n",
      "dict(mapping) -> new dictionary initialized from a mapping object's\n",
      "    (key, value) pairs\n",
      "dict(iterable) -> new dictionary initialized as if via:\n",
      "    d = {}\n",
      "    for k, v in iterable:\n",
      "        d[k] = v\n",
      "dict(**kwargs) -> new dictionary initialized with the name=value pairs\n",
      "    in the keyword argument list.  For example:  dict(one=1, two=2)\n",
      "\n",
      "*******************\n",
      "\n",
      "Return a new list containing all items from the iterable in ascending order.\n",
      "\n",
      "A custom key function can be supplied to customize the sort order, and the\n",
      "reverse flag can be set to request the result in descending order.\n",
      "\n",
      "*******************\n",
      "\n",
      "Equivalent to x**y (with two arguments) or x**y % z (with three arguments)\n",
      "\n",
      "Some types, such as ints, are able to use a more efficient algorithm when\n",
      "invoked using the three argument form.\n",
      "\n",
      "*******************\n",
      "\n",
      "32\n",
      "\n",
      "    param number: This is any integer number\n",
      "    param power: This is power over number\n",
      "    return: number to the power = number^power\n",
      "    \n"
     ]
    }
   ],
   "source": [
    "print(abs.__doc__)\n",
    "print(\"\\n*******************\\n\")\n",
    "print(dict.__doc__)\n",
    "print(\"\\n*******************\\n\")\n",
    "print(sorted.__doc__)\n",
    "print(\"\\n*******************\\n\")\n",
    "print(pow.__doc__)\n",
    "\n",
    "def power(number, power):\n",
    "    \"\"\"\n",
    "    param number: This is any integer number\n",
    "    param power: This is power over number\n",
    "    return: number to the power = number^power\n",
    "    \"\"\"\n",
    "    return number**power\n",
    "\n",
    "print(\"\\n*******************\\n\")\n",
    "print(power(2, 5))\n",
    "print(power.__doc__)"
   ]
  },
  {
   "cell_type": "code",
   "execution_count": null,
   "metadata": {},
   "outputs": [],
   "source": []
  }
 ],
 "metadata": {
  "kernelspec": {
   "display_name": "Python 3",
   "language": "python",
   "name": "python3"
  },
  "language_info": {
   "codemirror_mode": {
    "name": "ipython",
    "version": 3
   },
   "file_extension": ".py",
   "mimetype": "text/x-python",
   "name": "python",
   "nbconvert_exporter": "python",
   "pygments_lexer": "ipython3",
   "version": "3.7.4"
  }
 },
 "nbformat": 4,
 "nbformat_minor": 2
}
